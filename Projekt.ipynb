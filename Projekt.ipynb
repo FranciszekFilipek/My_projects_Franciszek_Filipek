{
 "cells": [
  {
   "cell_type": "code",
   "execution_count": 11,
   "metadata": {},
   "outputs": [],
   "source": [
    "from sklearn.ensemble import RandomForestClassifier, BaggingClassifier\n",
    "from sklearn.ensemble import ExtraTreesClassifier, GradientBoostingClassifier, VotingClassifier,StackingClassifier,AdaBoostClassifier\n",
    "from sklearn.neighbors import KNeighborsClassifier\n",
    "from sklearn.linear_model import LogisticRegression\n",
    "from sklearn import tree\n",
    "\n",
    "from sklearn.model_selection import train_test_split\n",
    "from sklearn.model_selection import GridSearchCV,KFold,RandomizedSearchCV\n",
    "\n",
    "from sklearn.pipeline import Pipeline\n",
    "from sklearn.impute import KNNImputer\n",
    "from sklearn.preprocessing import StandardScaler,MinMaxScaler\n",
    "\n",
    "import numpy as np\n",
    "import pandas as pd\n",
    "import matplotlib.pyplot as plt\n",
    "import seaborn as sns\n",
    "from sklearn.metrics import balanced_accuracy_score,roc_curve, roc_auc_score, auc\n",
    "import matplotlib.pyplot as plt\n",
    "from sklearn.model_selection import cross_val_score, cross_val_predict,cross_validate\n",
    "from sklearn.decomposition import PCA\n",
    "from sklearn.discriminant_analysis import LinearDiscriminantAnalysis, QuadraticDiscriminantAnalysis\n",
    "from sklearn import svm\n",
    "from sklearn.svm import SVC,LinearSVC\n",
    "from sklearn.feature_selection import SelectKBest,f_classif,SelectFromModel,RFE\n",
    "from skopt import BayesSearchCV\n",
    "import copy\n",
    "import xgboost as xgb\n",
    "import warnings\n",
    "\n",
    "warnings.filterwarnings(\"ignore\")\n"
   ]
  },
  {
   "cell_type": "code",
   "execution_count": 2,
   "metadata": {},
   "outputs": [
    {
     "data": {
      "text/plain": [
       "(array([-1,  1], dtype=int64), array([1000, 1000], dtype=int64))"
      ]
     },
     "execution_count": 2,
     "metadata": {},
     "output_type": "execute_result"
    }
   ],
   "source": [
    "X_train = pd.read_csv(\"C:\\\\Users\\\\User\\\\Desktop\\\\Python_5sem\\\\artifical_train_data.csv\")\n",
    "y_train = pd.read_csv(\"C:\\\\Users\\\\User\\\\Desktop\\\\Python_5sem\\\\artifical_train_labels.csv\")\n",
    "X_test = pd.read_csv(\"C:\\\\Users\\\\User\\\\Desktop\\\\Python_5sem\\\\artifical_test_data.csv\")\n",
    "X_train.describe()\n",
    "X_train.dtypes\n",
    "values, counts = np.unique(X_train, return_counts=True)\n",
    "values, counts = np.unique(y_train, return_counts=True)\n",
    "values,counts"
   ]
  },
  {
   "cell_type": "code",
   "execution_count": 3,
   "metadata": {},
   "outputs": [],
   "source": [
    "X_train.isnull().values.any()\n",
    "X_test.shape\n",
    "X_test.isnull().values.any()\n",
    "df = copy.deepcopy(X_train)\n",
    "df[\"Target\"] = y_train\n",
    "# nie ma braków danych."
   ]
  },
  {
   "cell_type": "code",
   "execution_count": 4,
   "metadata": {},
   "outputs": [
    {
     "data": {
      "text/plain": [
       "<AxesSubplot:>"
      ]
     },
     "execution_count": 4,
     "metadata": {},
     "output_type": "execute_result"
    },
    {
     "data": {
      "image/png": "[encoded data removed]",
      "text/plain": [
       "<Figure size 432x288 with 2 Axes>"
      ]
     },
     "metadata": {
      "needs_background": "light"
     },
     "output_type": "display_data"
    }
   ],
   "source": [
    "\n",
    "corr_matrix = X_train.corr()\n",
    "corr_matrix_y = df.corr()\n",
    "sns.heatmap(corr_matrix_y)"
   ]
  },
  {
   "cell_type": "code",
   "execution_count": 5,
   "metadata": {},
   "outputs": [],
   "source": [
    "# kolumny są generalnie niezbyt skorelowane (liniowo) z wyjatkiem kolumn 22-30 które są między sobą trochę skorelowane."
   ]
  },
  {
   "cell_type": "code",
   "execution_count": 105,
   "metadata": {},
   "outputs": [
    {
     "data": {
      "text/plain": [
       "[[0.01979356721070401, 6],\n",
       " [0.053370951288079886, 0],\n",
       " [0.07553879764135057, 15],\n",
       " [0.10226358393753376, 12],\n",
       " [0.1124205422259906, 21],\n",
       " [0.12154072013988332, 9],\n",
       " [0.12300117196158064, 2],\n",
       " [0.1342236081944806, 1],\n",
       " [0.15714362664118983, 10],\n",
       " [0.22099312445982316, 14],\n",
       " [0.2689230923427067, 27],\n",
       " [0.2846030181797045, 17],\n",
       " [0.5166845758504978, 20],\n",
       " [0.5269311464552834, 5],\n",
       " [0.5617457200953673, 11],\n",
       " [0.5726699152677863, 13],\n",
       " [0.6450821615612872, 8],\n",
       " [0.648938090647064, 19],\n",
       " [1.0416201485451713, 4],\n",
       " [1.2985358355936263, 18],\n",
       " [1.5012283056660913, 3],\n",
       " [2.222215430244578, 7],\n",
       " [2.2629535046543525, 25],\n",
       " [2.6737677191349514, 16],\n",
       " [18.40568742680988, 28],\n",
       " [25.413854374545473, 29],\n",
       " [28.444776244599286, 22],\n",
       " [30.081219012422455, 26],\n",
       " [32.62703615805269, 23],\n",
       " [99.52426895317825, 24]]"
      ]
     },
     "execution_count": 105,
     "metadata": {},
     "output_type": "execute_result"
    }
   ],
   "source": [
    "# Wybór zmiennych, usuwanie niepotrzebnych kolumn\n",
    "\n",
    "# 1 metoda; SelectKBest\n",
    "selector = SelectKBest(f_classif, k=8)\n",
    "selector.fit(X_train, y_train)\n",
    "# Get columns to keep and create new dataframe with those only\n",
    "cols_idxs = selector.get_support(indices=True)\n",
    "cols_idxs\n",
    "feature_scores = selector.scores_\n",
    "feature_scores = feature_scores.tolist()\n",
    "feature_scores = [[feature_scores[i],i] for i in range(len(feature_scores))]\n",
    "feature_scores.sort(key=lambda x: x[0])\n",
    "feature_scores\n",
    "# Dosyć duże wagi otrzymały kolumny o indeksach 25,16,28,29,22,26,23,24\n",
    "#cols_idxs"
   ]
  },
  {
   "cell_type": "code",
   "execution_count": 6,
   "metadata": {},
   "outputs": [
    {
     "data": {
      "text/plain": [
       "[[[0.024316252753328615, 9],\n",
       "  [0.06778254853489024, 24],\n",
       "  [0.44956723516289077, 26]],\n",
       " [[0.35000274175336155, 29],\n",
       "  [0.40313210389884496, 28],\n",
       "  [0.7207027786776663, 26]],\n",
       " [[0.02625320599557526, 5], [0.3501361676812464, 25], [0.5672182561617424, 9]],\n",
       " [[0.08091090270416246, 24],\n",
       "  [0.1440514444886069, 29],\n",
       "  [0.16247254765938082, 0]],\n",
       " [[0.018176320018120112, 5],\n",
       "  [0.021372183403034224, 18],\n",
       "  [0.05025029182830487, 20]],\n",
       " [[0.21414890019632957, 24],\n",
       "  [0.3333166036881336, 9],\n",
       "  [0.5925335950948933, 20]],\n",
       " [[0.34947694718694045, 25],\n",
       "  [0.37027056317633955, 3],\n",
       "  [0.5545180851273269, 20]],\n",
       " [[0.0763113976196882, 0],\n",
       "  [0.30464191029325327, 14],\n",
       "  [0.44732035000469755, 20]]]"
      ]
     },
     "execution_count": 6,
     "metadata": {},
     "output_type": "execute_result"
    }
   ],
   "source": [
    "# 2 metoda; PCA (z 5 głównymi zmiennymi)\n",
    "components = PCA(n_components=8)\n",
    "components = components.fit(X_train,y_train)\n",
    "features = []\n",
    "for i in components.components_:\n",
    "    j = i.tolist()\n",
    "    j = [[j[k],k] for k in range(len(j))]\n",
    "    j.sort(key=lambda x: x[0])\n",
    "    j = j[-3:]\n",
    "    features.append(j)\n",
    "features    \n",
    "# Ciężko jednoznacznie wyznaczyć które zmienne są ważne...\n"
   ]
  },
  {
   "cell_type": "code",
   "execution_count": 7,
   "metadata": {},
   "outputs": [
    {
     "data": {
      "text/plain": [
       "[[0.001401548837383145, 12],\n",
       " [0.0019267765394814763, 18],\n",
       " [0.003338242145083017, 14],\n",
       " [0.0033419786569532377, 0],\n",
       " [0.003646536049001333, 13],\n",
       " [0.004033303038105575, 8],\n",
       " [0.004295682368314949, 17],\n",
       " [0.004305399354968767, 6],\n",
       " [0.004386662344902905, 15],\n",
       " [0.004429315935973117, 21],\n",
       " [0.004916114042673999, 16],\n",
       " [0.00507127553111643, 9],\n",
       " [0.005193884397176867, 11],\n",
       " [0.005724896186873433, 10],\n",
       " [0.006073586681041621, 20],\n",
       " [0.0065483400242971005, 2],\n",
       " [0.00706314985571844, 5],\n",
       " [0.007691997649508198, 19],\n",
       " [0.00813429566968532, 1],\n",
       " [0.008810349528335962, 4],\n",
       " [0.008957555916572916, 7],\n",
       " [0.009223809178582842, 3],\n",
       " [0.04060898696382817, 27],\n",
       " [0.06579523301789492, 25],\n",
       " [0.0719043912006116, 29],\n",
       " [0.07503070734871634, 22],\n",
       " [0.08549596282283511, 23],\n",
       " [0.08635685677729234, 28],\n",
       " [0.2155436810649418, 26],\n",
       " [0.24074948087212908, 24]]"
      ]
     },
     "execution_count": 7,
     "metadata": {},
     "output_type": "execute_result"
    }
   ],
   "source": [
    "# 3 metoda; RFE z użyciem RandomForestClassifier\n",
    "rfe = RFE(estimator=RandomForestClassifier(n_estimators=100,min_samples_leaf=150,max_leaf_nodes=50),n_features_to_select=30)\n",
    "rfe = rfe.fit(X_train,y_train)\n",
    "feature_scores_rfe = rfe.estimator_.feature_importances_\n",
    "feature_scores_rfe = feature_scores_rfe.tolist()\n",
    "feature_scores_rfe = [[feature_scores_rfe[i],i] for i in range(len(feature_scores_rfe))]\n",
    "feature_scores_rfe.sort(key=lambda x: x[0])\n",
    "feature_scores_rfe\n",
    "# jak widać, top 8 zmiennych ( i to ze sporą wagą) według rfe to kolumny: 24,26,25,29,22,28,23,27. Zdecydowałem się na więc na ich użycie do dalszej pracy"
   ]
  },
  {
   "cell_type": "code",
   "execution_count": 3,
   "metadata": {},
   "outputs": [],
   "source": [
    "X_train_8 = X_train.iloc[:,[22,23,24,25,26,27,28,29]]\n",
    "X_test_8 = X_test.iloc[:,[22,23,24,25,26,27,28,29]]"
   ]
  },
  {
   "cell_type": "code",
   "execution_count": 10,
   "metadata": {},
   "outputs": [
    {
     "data": {
      "text/plain": [
       "(array([0.73989499, 0.71968498, 0.71452276, 0.71849924, 0.77487194,\n",
       "        0.73877684]),\n",
       " [{'rf__n_estimators': 100,\n",
       "   'rf__min_samples_leaf': 50,\n",
       "   'rf__max_leaf_nodes': 30,\n",
       "   'rf__max_depth': 20},\n",
       "  {'rf__n_estimators': 100,\n",
       "   'rf__min_samples_leaf': 50,\n",
       "   'rf__max_leaf_nodes': 160,\n",
       "   'rf__max_depth': 50},\n",
       "  {'rf__n_estimators': 50,\n",
       "   'rf__min_samples_leaf': 50,\n",
       "   'rf__max_leaf_nodes': 30,\n",
       "   'rf__max_depth': 40},\n",
       "  {'rf__n_estimators': 100,\n",
       "   'rf__min_samples_leaf': 50,\n",
       "   'rf__max_leaf_nodes': 120,\n",
       "   'rf__max_depth': 50},\n",
       "  {'rf__n_estimators': 150,\n",
       "   'rf__min_samples_leaf': 50,\n",
       "   'rf__max_leaf_nodes': 170,\n",
       "   'rf__max_depth': 40},\n",
       "  {'rf__n_estimators': 150,\n",
       "   'rf__min_samples_leaf': 50,\n",
       "   'rf__max_leaf_nodes': 120,\n",
       "   'rf__max_depth': 30}])"
      ]
     },
     "execution_count": 10,
     "metadata": {},
     "output_type": "execute_result"
    }
   ],
   "source": [
    "\n",
    "# Modele:\n",
    "# Próba z RandomForest, niestety niezbyt udana. Możliwość dopasowania metody do zbioru danych wyznaczałem za pomocą zagnieżdżonej kroswalidacji.\n",
    "\n",
    "pipeline_rf = Pipeline([\n",
    "    ('scaler', StandardScaler()),\n",
    "    ('rf', RandomForestClassifier())\n",
    "])\n",
    "cv_inner = KFold(n_splits=5, shuffle=True, random_state=1)\n",
    "cv_outer = KFold(n_splits=6, shuffle=True, random_state=2)\n",
    "space = dict()\n",
    "space['rf__n_estimators'] = list(range(50,300,50))\n",
    "space['rf__min_samples_leaf'] = list(range(50,200,25)) #(50,200,25)\n",
    "space['rf__max_depth'] = list(range(10,60,10))       # (10,60,10)\n",
    "space['rf__max_leaf_nodes'] = list(range(10,200,10))\n",
    "search = RandomizedSearchCV(pipeline_rf, space, scoring='balanced_accuracy', n_jobs=1, cv=cv_inner,n_iter = 100,refit=True)\n",
    "scores_rf = cross_val_score(search, X_train_8, y_train, scoring='balanced_accuracy', cv=cv_outer, n_jobs=-1)\n",
    "scores__rf = cross_validate(search, X_train_8, y_train, cv=cv_outer, n_jobs=-1,return_estimator=True)\n",
    "parameters = []\n",
    "for j in range(6):\n",
    "    parameters.append(scores__rf['estimator'][j].best_params_)\n",
    "scores_rf,parameters\n",
    "# do dalszej pracy w razie czego wezmę randomforest z parametrami: n_estimators = 100, min_samples_leaf = 100,max_leaf_nodes = 50,max_depth = 20, zeby zapobiec overfitowaniu\n"
   ]
  },
  {
   "cell_type": "code",
   "execution_count": 56,
   "metadata": {},
   "outputs": [
    {
     "data": {
      "text/plain": [
       "array([0.67878788, 0.73989899, 0.67451745, 0.70572057, 0.63918199,\n",
       "       0.67356943, 0.64432367, 0.70908818, 0.66266026, 0.64375   ])"
      ]
     },
     "execution_count": 56,
     "metadata": {},
     "output_type": "execute_result"
    }
   ],
   "source": [
    "# Metoda ExtraTrees, również z niezbyt dobrym skutkiem\n",
    "pipeline_extra = Pipeline([\n",
    "    ('scaler', StandardScaler()),\n",
    "    ('rf', ExtraTreesClassifier())\n",
    "])\n",
    "cv_inner = KFold(n_splits=6, shuffle=True, random_state=1)\n",
    "space = dict()\n",
    "space['rf__n_estimators'] = list(range(50,300,50)) \n",
    "space['rf__min_samples_leaf'] = list(range(50,200,25)) \n",
    "space['rf__max_depth'] = list(range(10,60,10))      \n",
    "space['rf__max_leaf_nodes'] = list(range(10,200,10))\n",
    "\n",
    "search = RandomizedSearchCV(pipeline_extra, space, scoring='balanced_accuracy', n_jobs=1, cv=cv_inner, refit=True, n_iter = 150)\n",
    "# configure the cross-validation procedure\n",
    "cv_outer = KFold(n_splits=10, shuffle=True, random_state=1)\n",
    "# execute the nested cross-validation\n",
    "scores = cross_val_score(search, X_train_8, y_train, scoring='balanced_accuracy', cv=cv_outer, n_jobs=-1)\n",
    "scores"
   ]
  },
  {
   "cell_type": "code",
   "execution_count": 82,
   "metadata": {},
   "outputs": [
    {
     "data": {
      "text/plain": [
       "array([0.875, 0.87 , 0.9  , 0.865, 0.83 , 0.865, 0.87 , 0.8  , 0.855,\n",
       "       0.82 ])"
      ]
     },
     "execution_count": 82,
     "metadata": {},
     "output_type": "execute_result"
    }
   ],
   "source": [
    "# Gradient Boosting, z w miarę ciekawymi wynikami, do niego jeszcze wrócimy\n",
    "pipeline_gradientboosting = Pipeline([\n",
    "    ('scaler', StandardScaler()),\n",
    "    ('rf', GradientBoostingClassifier(n_estimators=250,min_samples_leaf=50,max_leaf_nodes=50,max_depth=40))\n",
    "])\n",
    "scores = cross_val_score(\n",
    "pipeline_gradientboosting, X_train_8, y_train, cv=10, scoring='balanced_accuracy')\n",
    "scores"
   ]
  },
  {
   "cell_type": "code",
   "execution_count": 77,
   "metadata": {},
   "outputs": [
    {
     "data": {
      "text/plain": [
       "0.885"
      ]
     },
     "execution_count": 77,
     "metadata": {},
     "output_type": "execute_result"
    }
   ],
   "source": [
    "# Stacking, żeby przyspieszyć robię kilka razy wykonuję ten kod kilka razy, zeby train_test_split wylosowal dostatecznie rozne podziały\n",
    "clf1 = BaggingClassifier(KNeighborsClassifier(n_neighbors=3),n_estimators=50)\n",
    "clf4 = ExtraTreesClassifier(n_estimators=50,min_samples_leaf=100,max_leaf_nodes=100,max_depth=20)\n",
    "clf5 = GradientBoostingClassifier(n_estimators=100,min_samples_leaf=100,max_leaf_nodes=100,max_depth=20)\n",
    "X_train_train,X_train_test,y_train_train,y_train_test = train_test_split(X_train_8,y_train, test_size = 0.3)\n",
    "pipeline_ensembels = Pipeline([\n",
    "    ('scaler', StandardScaler()),\n",
    "    ('eclf', StackingClassifier(estimators=[('lr', clf1),\n",
    "                             ('extra',clf4),\n",
    "                             ('boost', clf5)],final_estimator = RandomForestClassifier(n_estimators=100, min_samples_leaf=100,max_leaf_nodes=50,max_depth = 20), cv = 5,stack_method=\"predict_proba\"))\n",
    "])\n",
    "pipeline_ensembels.fit(X_train_train,y_train_train)\n",
    "scores_vote = pipeline_ensembels.score(X_train_test,y_train_test)\n",
    "scores_vote\n",
    "# Stacking radzi sobie naprawdę dobrze, (jest nadzieja na licencjat hah)"
   ]
  },
  {
   "cell_type": "code",
   "execution_count": 81,
   "metadata": {},
   "outputs": [
    {
     "data": {
      "text/plain": [
       "0.8648364836483649"
      ]
     },
     "execution_count": 81,
     "metadata": {},
     "output_type": "execute_result"
    }
   ],
   "source": [
    "# Voting, ponownie połączony ze splitem\n",
    "clf2 = RandomForestClassifier(n_estimators=100,min_samples_leaf=100,max_depth = 20,max_leaf_nodes=50)\n",
    "clf5 = BaggingClassifier(KNeighborsClassifier(n_neighbors=6),n_estimators=100)\n",
    "#clf6 = AdaBoostClassifier()\n",
    "clf7 = BaggingClassifier(KNeighborsClassifier(n_neighbors=3),n_estimators=100)\n",
    "X_train_train, X_train_test,y_train_train,y_train_test = train_test_split(X_train_8,y_train,test_size=0.3)\n",
    "pipeline_vote = Pipeline([\n",
    "    ('scaler', StandardScaler()),\n",
    "    ('eclf', VotingClassifier(estimators=[\n",
    "                             ('gb',clf5),\n",
    "#                             ('rf',clf2),\n",
    "                             ('Bknn',clf7)],voting = \"soft\"))\n",
    "])\n",
    "pipeline_vote.fit(X_train_train,y_train_train)\n",
    "preds_vote = pipeline_vote.predict(X_train_test)\n",
    "balanced_accuracy_score(preds_vote,y_train_test)\n",
    "# Voting radzi sobie bardzo dobrze."
   ]
  },
  {
   "cell_type": "code",
   "execution_count": 64,
   "metadata": {},
   "outputs": [],
   "source": [
    "preds_voting = preds_vote.tolist()\n",
    "preds_bruh_vote = [i[1] for i in preds_voting]\n",
    "file = open('C:\\\\Users\\\\User\\\\Desktop\\\\preds_vote.txt','w')\n",
    "for item in preds_bruh_vote:\n",
    "\tfile.write(\"%s\\n\" % str(item))\n",
    "file.close()"
   ]
  },
  {
   "cell_type": "code",
   "execution_count": 15,
   "metadata": {},
   "outputs": [
    {
     "data": {
      "text/plain": [
       "array([0.83585859, 0.8479798 , 0.839984  , 0.83008301, 0.83991559,\n",
       "       0.83053221, 0.84198873, 0.86622961, 0.85496795, 0.81875   ])"
      ]
     },
     "execution_count": 15,
     "metadata": {},
     "output_type": "execute_result"
    }
   ],
   "source": [
    "# Gradient Boosting, z zagnieżdżoną kroswalidacją\n",
    "pipeline_gradientboosting_op = Pipeline([\n",
    "    ('scaler', StandardScaler()),\n",
    "    ('rf', GradientBoostingClassifier())\n",
    "])\n",
    "cv_inner = KFold(n_splits=6, shuffle=True, random_state=1)\n",
    "space = dict()\n",
    "space['rf__n_estimators'] = list(range(50,300,50)) #(50,300,50)\n",
    "space['rf__min_samples_leaf'] = list(range(100,200,25)) #(50,200,25)\n",
    "space['rf__max_depth'] = list(range(10,60,10))       # (10,60,10)\n",
    "space['rf__max_leaf_nodes'] = list(range(10,130,10)) # (10,200,10)\n",
    "search = RandomizedSearchCV(pipeline_gradientboosting_op, space, scoring='balanced_accuracy', n_jobs=1, cv=cv_inner, refit=True, n_iter = 250)\n",
    "cv_outer = KFold(n_splits=10, shuffle=True, random_state=1)\n",
    "scores = cross_val_score(search, X_train_8, y_train, scoring='balanced_accuracy', cv=cv_outer, n_jobs=-1)\n",
    "scores"
   ]
  },
  {
   "cell_type": "code",
   "execution_count": null,
   "metadata": {},
   "outputs": [],
   "source": [
    "# Gradient Boosting poradził sobie całkiem dobrze"
   ]
  },
  {
   "cell_type": "code",
   "execution_count": 88,
   "metadata": {},
   "outputs": [
    {
     "ename": "ValueError",
     "evalue": "X has 30 features, but StandardScaler is expecting 8 features as input.",
     "output_type": "error",
     "traceback": [
      "\u001b[1;31m---------------------------------------------------------------------------\u001b[0m",
      "\u001b[1;31mValueError\u001b[0m                                Traceback (most recent call last)",
      "\u001b[1;32m~\\AppData\\Local\\Temp/ipykernel_7240/3437480186.py\u001b[0m in \u001b[0;36m<module>\u001b[1;34m\u001b[0m\n\u001b[0;32m     11\u001b[0m \u001b[0msearch\u001b[0m \u001b[1;33m=\u001b[0m \u001b[0mRandomizedSearchCV\u001b[0m\u001b[1;33m(\u001b[0m\u001b[0mpipeline_gradientboosting_op\u001b[0m\u001b[1;33m,\u001b[0m \u001b[0mspace\u001b[0m\u001b[1;33m,\u001b[0m \u001b[0mscoring\u001b[0m\u001b[1;33m=\u001b[0m\u001b[1;34m'balanced_accuracy'\u001b[0m\u001b[1;33m,\u001b[0m \u001b[0mn_jobs\u001b[0m\u001b[1;33m=\u001b[0m\u001b[1;36m1\u001b[0m\u001b[1;33m,\u001b[0m \u001b[0mcv\u001b[0m\u001b[1;33m=\u001b[0m\u001b[1;36m10\u001b[0m\u001b[1;33m,\u001b[0m \u001b[0mn_iter\u001b[0m \u001b[1;33m=\u001b[0m \u001b[1;36m250\u001b[0m\u001b[1;33m)\u001b[0m\u001b[1;33m\u001b[0m\u001b[1;33m\u001b[0m\u001b[0m\n\u001b[0;32m     12\u001b[0m \u001b[0msearch\u001b[0m\u001b[1;33m.\u001b[0m\u001b[0mfit\u001b[0m\u001b[1;33m(\u001b[0m\u001b[0mX_train_8\u001b[0m\u001b[1;33m,\u001b[0m\u001b[0my_train\u001b[0m\u001b[1;33m)\u001b[0m\u001b[1;33m\u001b[0m\u001b[1;33m\u001b[0m\u001b[0m\n\u001b[1;32m---> 13\u001b[1;33m \u001b[0mpreds\u001b[0m \u001b[1;33m=\u001b[0m \u001b[0msearch\u001b[0m\u001b[1;33m.\u001b[0m\u001b[0mpredict_proba\u001b[0m\u001b[1;33m(\u001b[0m\u001b[0mX_test\u001b[0m\u001b[1;33m)\u001b[0m\u001b[1;33m\u001b[0m\u001b[1;33m\u001b[0m\u001b[0m\n\u001b[0m\u001b[0;32m     14\u001b[0m \u001b[1;31m#search.best_params_\u001b[0m\u001b[1;33m\u001b[0m\u001b[1;33m\u001b[0m\u001b[0m\n\u001b[0;32m     15\u001b[0m \u001b[1;31m#balanced_accuracy_score(preds,y_train_test)\u001b[0m\u001b[1;33m\u001b[0m\u001b[1;33m\u001b[0m\u001b[0m\n",
      "\u001b[1;32mc:\\Users\\User\\anaconda3\\lib\\site-packages\\sklearn\\utils\\metaestimators.py\u001b[0m in \u001b[0;36m<lambda>\u001b[1;34m(*args, **kwargs)\u001b[0m\n\u001b[0;32m    118\u001b[0m \u001b[1;33m\u001b[0m\u001b[0m\n\u001b[0;32m    119\u001b[0m         \u001b[1;31m# lambda, but not partial, allows help() to work with update_wrapper\u001b[0m\u001b[1;33m\u001b[0m\u001b[1;33m\u001b[0m\u001b[0m\n\u001b[1;32m--> 120\u001b[1;33m         \u001b[0mout\u001b[0m \u001b[1;33m=\u001b[0m \u001b[1;32mlambda\u001b[0m \u001b[1;33m*\u001b[0m\u001b[0margs\u001b[0m\u001b[1;33m,\u001b[0m \u001b[1;33m**\u001b[0m\u001b[0mkwargs\u001b[0m\u001b[1;33m:\u001b[0m \u001b[0mself\u001b[0m\u001b[1;33m.\u001b[0m\u001b[0mfn\u001b[0m\u001b[1;33m(\u001b[0m\u001b[0mobj\u001b[0m\u001b[1;33m,\u001b[0m \u001b[1;33m*\u001b[0m\u001b[0margs\u001b[0m\u001b[1;33m,\u001b[0m \u001b[1;33m**\u001b[0m\u001b[0mkwargs\u001b[0m\u001b[1;33m)\u001b[0m\u001b[1;33m\u001b[0m\u001b[1;33m\u001b[0m\u001b[0m\n\u001b[0m\u001b[0;32m    121\u001b[0m         \u001b[1;31m# update the docstring of the returned function\u001b[0m\u001b[1;33m\u001b[0m\u001b[1;33m\u001b[0m\u001b[0m\n\u001b[0;32m    122\u001b[0m         \u001b[0mupdate_wrapper\u001b[0m\u001b[1;33m(\u001b[0m\u001b[0mout\u001b[0m\u001b[1;33m,\u001b[0m \u001b[0mself\u001b[0m\u001b[1;33m.\u001b[0m\u001b[0mfn\u001b[0m\u001b[1;33m)\u001b[0m\u001b[1;33m\u001b[0m\u001b[1;33m\u001b[0m\u001b[0m\n",
      "\u001b[1;32mc:\\Users\\User\\anaconda3\\lib\\site-packages\\sklearn\\model_selection\\_search.py\u001b[0m in \u001b[0;36mpredict_proba\u001b[1;34m(self, X)\u001b[0m\n\u001b[0;32m    555\u001b[0m         \"\"\"\n\u001b[0;32m    556\u001b[0m         \u001b[0mself\u001b[0m\u001b[1;33m.\u001b[0m\u001b[0m_check_is_fitted\u001b[0m\u001b[1;33m(\u001b[0m\u001b[1;34m'predict_proba'\u001b[0m\u001b[1;33m)\u001b[0m\u001b[1;33m\u001b[0m\u001b[1;33m\u001b[0m\u001b[0m\n\u001b[1;32m--> 557\u001b[1;33m         \u001b[1;32mreturn\u001b[0m \u001b[0mself\u001b[0m\u001b[1;33m.\u001b[0m\u001b[0mbest_estimator_\u001b[0m\u001b[1;33m.\u001b[0m\u001b[0mpredict_proba\u001b[0m\u001b[1;33m(\u001b[0m\u001b[0mX\u001b[0m\u001b[1;33m)\u001b[0m\u001b[1;33m\u001b[0m\u001b[1;33m\u001b[0m\u001b[0m\n\u001b[0m\u001b[0;32m    558\u001b[0m \u001b[1;33m\u001b[0m\u001b[0m\n\u001b[0;32m    559\u001b[0m     \u001b[1;33m@\u001b[0m\u001b[0mif_delegate_has_method\u001b[0m\u001b[1;33m(\u001b[0m\u001b[0mdelegate\u001b[0m\u001b[1;33m=\u001b[0m\u001b[1;33m(\u001b[0m\u001b[1;34m'best_estimator_'\u001b[0m\u001b[1;33m,\u001b[0m \u001b[1;34m'estimator'\u001b[0m\u001b[1;33m)\u001b[0m\u001b[1;33m)\u001b[0m\u001b[1;33m\u001b[0m\u001b[1;33m\u001b[0m\u001b[0m\n",
      "\u001b[1;32mc:\\Users\\User\\anaconda3\\lib\\site-packages\\sklearn\\utils\\metaestimators.py\u001b[0m in \u001b[0;36m<lambda>\u001b[1;34m(*args, **kwargs)\u001b[0m\n\u001b[0;32m    118\u001b[0m \u001b[1;33m\u001b[0m\u001b[0m\n\u001b[0;32m    119\u001b[0m         \u001b[1;31m# lambda, but not partial, allows help() to work with update_wrapper\u001b[0m\u001b[1;33m\u001b[0m\u001b[1;33m\u001b[0m\u001b[0m\n\u001b[1;32m--> 120\u001b[1;33m         \u001b[0mout\u001b[0m \u001b[1;33m=\u001b[0m \u001b[1;32mlambda\u001b[0m \u001b[1;33m*\u001b[0m\u001b[0margs\u001b[0m\u001b[1;33m,\u001b[0m \u001b[1;33m**\u001b[0m\u001b[0mkwargs\u001b[0m\u001b[1;33m:\u001b[0m \u001b[0mself\u001b[0m\u001b[1;33m.\u001b[0m\u001b[0mfn\u001b[0m\u001b[1;33m(\u001b[0m\u001b[0mobj\u001b[0m\u001b[1;33m,\u001b[0m \u001b[1;33m*\u001b[0m\u001b[0margs\u001b[0m\u001b[1;33m,\u001b[0m \u001b[1;33m**\u001b[0m\u001b[0mkwargs\u001b[0m\u001b[1;33m)\u001b[0m\u001b[1;33m\u001b[0m\u001b[1;33m\u001b[0m\u001b[0m\n\u001b[0m\u001b[0;32m    121\u001b[0m         \u001b[1;31m# update the docstring of the returned function\u001b[0m\u001b[1;33m\u001b[0m\u001b[1;33m\u001b[0m\u001b[0m\n\u001b[0;32m    122\u001b[0m         \u001b[0mupdate_wrapper\u001b[0m\u001b[1;33m(\u001b[0m\u001b[0mout\u001b[0m\u001b[1;33m,\u001b[0m \u001b[0mself\u001b[0m\u001b[1;33m.\u001b[0m\u001b[0mfn\u001b[0m\u001b[1;33m)\u001b[0m\u001b[1;33m\u001b[0m\u001b[1;33m\u001b[0m\u001b[0m\n",
      "\u001b[1;32mc:\\Users\\User\\anaconda3\\lib\\site-packages\\sklearn\\pipeline.py\u001b[0m in \u001b[0;36mpredict_proba\u001b[1;34m(self, X)\u001b[0m\n\u001b[0;32m    472\u001b[0m         \u001b[0mXt\u001b[0m \u001b[1;33m=\u001b[0m \u001b[0mX\u001b[0m\u001b[1;33m\u001b[0m\u001b[1;33m\u001b[0m\u001b[0m\n\u001b[0;32m    473\u001b[0m         \u001b[1;32mfor\u001b[0m \u001b[0m_\u001b[0m\u001b[1;33m,\u001b[0m \u001b[0mname\u001b[0m\u001b[1;33m,\u001b[0m \u001b[0mtransform\u001b[0m \u001b[1;32min\u001b[0m \u001b[0mself\u001b[0m\u001b[1;33m.\u001b[0m\u001b[0m_iter\u001b[0m\u001b[1;33m(\u001b[0m\u001b[0mwith_final\u001b[0m\u001b[1;33m=\u001b[0m\u001b[1;32mFalse\u001b[0m\u001b[1;33m)\u001b[0m\u001b[1;33m:\u001b[0m\u001b[1;33m\u001b[0m\u001b[1;33m\u001b[0m\u001b[0m\n\u001b[1;32m--> 474\u001b[1;33m             \u001b[0mXt\u001b[0m \u001b[1;33m=\u001b[0m \u001b[0mtransform\u001b[0m\u001b[1;33m.\u001b[0m\u001b[0mtransform\u001b[0m\u001b[1;33m(\u001b[0m\u001b[0mXt\u001b[0m\u001b[1;33m)\u001b[0m\u001b[1;33m\u001b[0m\u001b[1;33m\u001b[0m\u001b[0m\n\u001b[0m\u001b[0;32m    475\u001b[0m         \u001b[1;32mreturn\u001b[0m \u001b[0mself\u001b[0m\u001b[1;33m.\u001b[0m\u001b[0msteps\u001b[0m\u001b[1;33m[\u001b[0m\u001b[1;33m-\u001b[0m\u001b[1;36m1\u001b[0m\u001b[1;33m]\u001b[0m\u001b[1;33m[\u001b[0m\u001b[1;33m-\u001b[0m\u001b[1;36m1\u001b[0m\u001b[1;33m]\u001b[0m\u001b[1;33m.\u001b[0m\u001b[0mpredict_proba\u001b[0m\u001b[1;33m(\u001b[0m\u001b[0mXt\u001b[0m\u001b[1;33m)\u001b[0m\u001b[1;33m\u001b[0m\u001b[1;33m\u001b[0m\u001b[0m\n\u001b[0;32m    476\u001b[0m \u001b[1;33m\u001b[0m\u001b[0m\n",
      "\u001b[1;32mc:\\Users\\User\\anaconda3\\lib\\site-packages\\sklearn\\preprocessing\\_data.py\u001b[0m in \u001b[0;36mtransform\u001b[1;34m(self, X, copy)\u001b[0m\n\u001b[0;32m    881\u001b[0m \u001b[1;33m\u001b[0m\u001b[0m\n\u001b[0;32m    882\u001b[0m         \u001b[0mcopy\u001b[0m \u001b[1;33m=\u001b[0m \u001b[0mcopy\u001b[0m \u001b[1;32mif\u001b[0m \u001b[0mcopy\u001b[0m \u001b[1;32mis\u001b[0m \u001b[1;32mnot\u001b[0m \u001b[1;32mNone\u001b[0m \u001b[1;32melse\u001b[0m \u001b[0mself\u001b[0m\u001b[1;33m.\u001b[0m\u001b[0mcopy\u001b[0m\u001b[1;33m\u001b[0m\u001b[1;33m\u001b[0m\u001b[0m\n\u001b[1;32m--> 883\u001b[1;33m         X = self._validate_data(X, reset=False,\n\u001b[0m\u001b[0;32m    884\u001b[0m                                 \u001b[0maccept_sparse\u001b[0m\u001b[1;33m=\u001b[0m\u001b[1;34m'csr'\u001b[0m\u001b[1;33m,\u001b[0m \u001b[0mcopy\u001b[0m\u001b[1;33m=\u001b[0m\u001b[0mcopy\u001b[0m\u001b[1;33m,\u001b[0m\u001b[1;33m\u001b[0m\u001b[1;33m\u001b[0m\u001b[0m\n\u001b[0;32m    885\u001b[0m                                 \u001b[0mestimator\u001b[0m\u001b[1;33m=\u001b[0m\u001b[0mself\u001b[0m\u001b[1;33m,\u001b[0m \u001b[0mdtype\u001b[0m\u001b[1;33m=\u001b[0m\u001b[0mFLOAT_DTYPES\u001b[0m\u001b[1;33m,\u001b[0m\u001b[1;33m\u001b[0m\u001b[1;33m\u001b[0m\u001b[0m\n",
      "\u001b[1;32mc:\\Users\\User\\anaconda3\\lib\\site-packages\\sklearn\\base.py\u001b[0m in \u001b[0;36m_validate_data\u001b[1;34m(self, X, y, reset, validate_separately, **check_params)\u001b[0m\n\u001b[0;32m    435\u001b[0m \u001b[1;33m\u001b[0m\u001b[0m\n\u001b[0;32m    436\u001b[0m         \u001b[1;32mif\u001b[0m \u001b[0mcheck_params\u001b[0m\u001b[1;33m.\u001b[0m\u001b[0mget\u001b[0m\u001b[1;33m(\u001b[0m\u001b[1;34m'ensure_2d'\u001b[0m\u001b[1;33m,\u001b[0m \u001b[1;32mTrue\u001b[0m\u001b[1;33m)\u001b[0m\u001b[1;33m:\u001b[0m\u001b[1;33m\u001b[0m\u001b[1;33m\u001b[0m\u001b[0m\n\u001b[1;32m--> 437\u001b[1;33m             \u001b[0mself\u001b[0m\u001b[1;33m.\u001b[0m\u001b[0m_check_n_features\u001b[0m\u001b[1;33m(\u001b[0m\u001b[0mX\u001b[0m\u001b[1;33m,\u001b[0m \u001b[0mreset\u001b[0m\u001b[1;33m=\u001b[0m\u001b[0mreset\u001b[0m\u001b[1;33m)\u001b[0m\u001b[1;33m\u001b[0m\u001b[1;33m\u001b[0m\u001b[0m\n\u001b[0m\u001b[0;32m    438\u001b[0m \u001b[1;33m\u001b[0m\u001b[0m\n\u001b[0;32m    439\u001b[0m         \u001b[1;32mreturn\u001b[0m \u001b[0mout\u001b[0m\u001b[1;33m\u001b[0m\u001b[1;33m\u001b[0m\u001b[0m\n",
      "\u001b[1;32mc:\\Users\\User\\anaconda3\\lib\\site-packages\\sklearn\\base.py\u001b[0m in \u001b[0;36m_check_n_features\u001b[1;34m(self, X, reset)\u001b[0m\n\u001b[0;32m    363\u001b[0m \u001b[1;33m\u001b[0m\u001b[0m\n\u001b[0;32m    364\u001b[0m         \u001b[1;32mif\u001b[0m \u001b[0mn_features\u001b[0m \u001b[1;33m!=\u001b[0m \u001b[0mself\u001b[0m\u001b[1;33m.\u001b[0m\u001b[0mn_features_in_\u001b[0m\u001b[1;33m:\u001b[0m\u001b[1;33m\u001b[0m\u001b[1;33m\u001b[0m\u001b[0m\n\u001b[1;32m--> 365\u001b[1;33m             raise ValueError(\n\u001b[0m\u001b[0;32m    366\u001b[0m                 \u001b[1;34mf\"X has {n_features} features, but {self.__class__.__name__} \"\u001b[0m\u001b[1;33m\u001b[0m\u001b[1;33m\u001b[0m\u001b[0m\n\u001b[0;32m    367\u001b[0m                 f\"is expecting {self.n_features_in_} features as input.\")\n",
      "\u001b[1;31mValueError\u001b[0m: X has 30 features, but StandardScaler is expecting 8 features as input."
     ]
    }
   ],
   "source": [
    "\n",
    "pipeline_gradientboosting_op = Pipeline([\n",
    "    ('scaler', StandardScaler()),\n",
    "    ('rf', GradientBoostingClassifier())\n",
    "])\n",
    "space = dict()\n",
    "space['rf__n_estimators'] = list(range(50,300,50)) #(50,300,50)\n",
    "space['rf__min_samples_leaf'] = list(range(50,200,25)) #(50,200,25)\n",
    "space['rf__max_depth'] = list(range(10,60,10))       # (10,60,10)\n",
    "space['rf__max_leaf_nodes'] = list(range(10,200,10)) # (10,200,10)\n",
    "#X_train_train, X_train_test,y_train_train,y_train_test = train_test_split(X_train_8,y_train,test_size=0.3)\n",
    "search = RandomizedSearchCV(pipeline_gradientboosting_op, space, scoring='balanced_accuracy', n_jobs=1, cv=10, n_iter = 250)\n",
    "search.fit(X_train_8,y_train)\n",
    "preds = search.predict_proba(X_test_8)\n",
    "#search.best_params_\n",
    "#balanced_accuracy_score(preds,y_train_test)\n",
    "\n"
   ]
  },
  {
   "cell_type": "code",
   "execution_count": 89,
   "metadata": {},
   "outputs": [
    {
     "data": {
      "text/plain": [
       "array([[0.96904768, 0.03095232],\n",
       "       [0.99029107, 0.00970893],\n",
       "       [0.58421034, 0.41578966],\n",
       "       ...,\n",
       "       [0.03693748, 0.96306252],\n",
       "       [0.02676968, 0.97323032],\n",
       "       [0.99544387, 0.00455613]])"
      ]
     },
     "execution_count": 89,
     "metadata": {},
     "output_type": "execute_result"
    }
   ],
   "source": [
    "preds = search.predict_proba(X_test_8)\n",
    "preds\n",
    "# Najlepsze parametry dla Gradient Boosting to; n_estimators = 200, min_samples_leaf = 50, max_leaf_nodes = 40, max_depth = 40 "
   ]
  },
  {
   "cell_type": "code",
   "execution_count": 90,
   "metadata": {},
   "outputs": [],
   "source": [
    "preds_bruh = preds.tolist()\n",
    "preds_bruh_1 = [i[1] for i in preds_bruh]\n",
    "#file = open('preds1.txt','w')\n",
    "#for item in preds_bruh:\n",
    "#\tfile.write(item+\"\\n\")\n",
    "#file.close()\n",
    "preds_bruh\n",
    "#pd.DataFrame(preds, columns=search.classes_)\n",
    "preds_bruh_1\n",
    "file = open('C:\\\\Users\\\\User\\\\Desktop\\\\preds\\\\preds_gb_nwm.txt','w')\n",
    "for item in preds_bruh_1:\n",
    "\tfile.write(\"%s\\n\" % str(item))\n",
    "file.close()"
   ]
  },
  {
   "cell_type": "code",
   "execution_count": 91,
   "metadata": {},
   "outputs": [
    {
     "data": {
      "text/plain": [
       "{'rf__n_estimators': 200,\n",
       " 'rf__min_samples_leaf': 50,\n",
       " 'rf__max_leaf_nodes': 40,\n",
       " 'rf__max_depth': 20}"
      ]
     },
     "execution_count": 91,
     "metadata": {},
     "output_type": "execute_result"
    }
   ],
   "source": [
    "search.best_params_\n",
    "# Wypisane parametry Gradient Boosting"
   ]
  },
  {
   "cell_type": "code",
   "execution_count": 14,
   "metadata": {},
   "outputs": [
    {
     "data": {
      "image/png": "[encoded data removed]",
      "text/plain": [
       "<Figure size 432x288 with 1 Axes>"
      ]
     },
     "metadata": {
      "needs_background": "light"
     },
     "output_type": "display_data"
    }
   ],
   "source": [
    "pipeline_gradientboosting_op = Pipeline([\n",
    "    ('scaler', StandardScaler()),\n",
    "    ('rf', GradientBoostingClassifier(n_estimators=200,min_samples_leaf=50,max_leaf_nodes=40,max_depth=20))\n",
    "])\n",
    "X_train_train, X_train_test,y_train_train,y_train_test = train_test_split(X_train_8,y_train,test_size=0.3)\n",
    "pipeline_gradientboosting_op.fit(X_train_train,y_train_train)\n",
    "preds_split = pipeline_gradientboosting_op.predict_proba(X_train_test)\n",
    "fpr, tpr, thresholds = roc_curve(y_train_test, preds_split[:,1])\n",
    "plt.plot(fpr,tpr,label=\"Gradient Boosting, AUC=\"+str(round(roc_auc_score(y_train_test, preds_split[:,1]), 4)))\n",
    "plt.legend()\n",
    "plt.show()\n",
    "#scores = cross_val_score(pipeline_gradientboosting_op, X_train_8, y_train, scoring='balanced_accuracy', cv=10, n_jobs=-1)\n",
    "#scores"
   ]
  },
  {
   "cell_type": "code",
   "execution_count": 100,
   "metadata": {},
   "outputs": [
    {
     "data": {
      "text/plain": [
       "0.895"
      ]
     },
     "execution_count": 100,
     "metadata": {},
     "output_type": "execute_result"
    }
   ],
   "source": [
    "# Postanowiłem połączyć dwa najlepsze klasyfikatory jakie mam: Gradient Boosting oraz Bagging(KNN) w VotingClassifier, parametry dla GB podane wyżej, dla Bagging(Knn) to n_estimators = 100, n_neighbors = 3\n",
    "# Jednakże okazało się, że sam chociaż Gradient Boosting ma odrobinę słabsze wyniki w porównaniu do Bagging(Knn) to jednak na próbce testowej (na stronie) Gradient Boosting odniósł lepszy wynik.\n",
    "clf2 = GradientBoostingClassifier(n_estimators=200,min_samples_leaf=50,max_depth = 20,max_leaf_nodes=40)\n",
    "clf5 = BaggingClassifier(KNeighborsClassifier(n_neighbors=3),n_estimators=100)\n",
    "X_train_train, X_train_test,y_train_train,y_train_test = train_test_split(X_train_8,y_train,test_size=0.3)\n",
    "pipeline_vote = Pipeline([\n",
    "    ('scaler', StandardScaler()),\n",
    "    ('eclf', VotingClassifier(estimators=[\n",
    "                             ('gb',clf2),\n",
    "                             ('Bknn',clf5)],voting = \"soft\"))\n",
    "])\n",
    "pipeline_vote.fit(X_train_train,y_train_train)\n",
    "preds_vote_gb_knn = pipeline_vote.predict(X_train_test)\n",
    "balanced_accuracy_score(preds_vote_gb_knn,y_train_test)"
   ]
  },
  {
   "cell_type": "code",
   "execution_count": 101,
   "metadata": {},
   "outputs": [],
   "source": [
    "pipeline_vote = Pipeline([\n",
    "    ('scaler', StandardScaler()),\n",
    "    ('eclf', VotingClassifier(estimators=[\n",
    "                             ('gb',clf2),\n",
    "                             ('Bknn',clf5)],voting = \"soft\"))\n",
    "])\n",
    "pipeline_vote.fit(X_train_8,y_train)\n",
    "preds_vote_gb_knn = pipeline_vote.predict_proba(X_test_8)"
   ]
  },
  {
   "cell_type": "code",
   "execution_count": 102,
   "metadata": {},
   "outputs": [],
   "source": [
    "preds_bruh_knn_8 = preds_vote_gb_knn.tolist()\n",
    "preds_bruh_knn_8_2 = [i[1] for i in preds_bruh_knn_8]\n",
    "#file = open('preds1.txt','w')\n",
    "#for item in preds_bruh:\n",
    "#\tfile.write(item+\"\\n\")\n",
    "#file.close()\n",
    "#preds_bruh\n",
    "#pd.DataFrame(preds, columns=search.classes_)\n",
    "#preds_bruh_1\n",
    "file = open('C:\\\\Users\\\\User\\\\Desktop\\\\preds\\\\preds_vote_gb_knn.txt','w')\n",
    "for item in preds_bruh_knn_8_2:\n",
    "\tfile.write(\"%s\\n\" % str(item))\n",
    "file.close()"
   ]
  },
  {
   "cell_type": "code",
   "execution_count": 8,
   "metadata": {},
   "outputs": [],
   "source": [
    "# Próba z xgboostem, okazał się podobnie skuteczny co sklearnowy Gradient Boost\n",
    "from xgboost import XGBClassifier"
   ]
  },
  {
   "cell_type": "code",
   "execution_count": 9,
   "metadata": {},
   "outputs": [
    {
     "data": {
      "text/plain": [
       "0.8392857142857142"
      ]
     },
     "execution_count": 9,
     "metadata": {},
     "output_type": "execute_result"
    }
   ],
   "source": [
    "# XGBOOST\n",
    "Y = copy.deepcopy(y_train)\n",
    "Y[Y == -1] = 0\n",
    "X_train_train, X_train_test, y_train_train, y_train_test = train_test_split(X_train_8, Y, test_size=0.3)\n",
    "model = XGBClassifier()\n",
    "model.fit(X_train_train, y_train_train)\n",
    "params = {\"objective\": \"reg:squarederror\", \"tree_method\": \"gpu_hist\"}\n",
    "n = 100\n",
    "\n",
    "preds_xgboost = model.predict(X_train_test)\n",
    "balanced_accuracy_score(preds_xgboost,y_train_test)"
   ]
  },
  {
   "cell_type": "code",
   "execution_count": 30,
   "metadata": {},
   "outputs": [
    {
     "data": {
      "text/plain": [
       "array([0.63383838, 0.73838384, 0.63461346, 0.65046505, 0.66978193,\n",
       "       0.68197279, 0.59621578, 0.68786908, 0.70713141, 0.63125   ])"
      ]
     },
     "execution_count": 30,
     "metadata": {},
     "output_type": "execute_result"
    }
   ],
   "source": [
    "# Svm zbyt dobrze sobie nie poradził\n",
    "pipeline_svm = Pipeline([\n",
    "    ('scaler', StandardScaler()),\n",
    "    ('svm', SVC())\n",
    "])\n",
    "# define search space\n",
    "space = dict()\n",
    "space['svm__C'] = [0.001,0.005,0.01,0.05,0.1,0.5,1]\n",
    "space['svm__kernel'] = ['linear', 'poly', 'rbf', 'sigmoid']\n",
    "cv_inner = KFold(n_splits=6, shuffle=True, random_state=1)\n",
    "search = GridSearchCV(pipeline_svm, space, scoring='balanced_accuracy', n_jobs=1, cv=cv_inner,refit=True)\n",
    "cv_outer = KFold(n_splits=10, shuffle=True, random_state=1)\n",
    "scores = cross_val_score(search, X_train, y_train, scoring='balanced_accuracy', cv=cv_outer, n_jobs=-1)\n",
    "scores"
   ]
  },
  {
   "cell_type": "code",
   "execution_count": 20,
   "metadata": {},
   "outputs": [
    {
     "data": {
      "text/plain": [
       "{'svm__C': 0.01, 'svm__kernel': 'linear'}"
      ]
     },
     "execution_count": 20,
     "metadata": {},
     "output_type": "execute_result"
    }
   ],
   "source": [
    "search.best_params_"
   ]
  },
  {
   "cell_type": "code",
   "execution_count": 87,
   "metadata": {},
   "outputs": [
    {
     "data": {
      "text/plain": [
       "[0.8985152916073968,\n",
       " 0.8850153890598784,\n",
       " 0.8968176363393929,\n",
       " 0.8888299001911233,\n",
       " 0.9001956947162426,\n",
       " 0.8867605696434726,\n",
       " 0.8786607390941928,\n",
       " 0.903901830653423,\n",
       " 0.8828091100257012,\n",
       " 0.9026696329254728]"
      ]
     },
     "execution_count": 87,
     "metadata": {},
     "output_type": "execute_result"
    }
   ],
   "source": [
    "# Testowanie Bagging Classifier, ponownie ze splitem, z uwagi na problemy z funkcją BaggingClassifier, optymalizację hiperparametrów prowadziłem ręcznie, testując różne\n",
    "# kombinacje parametru n_estimators i n_neighbors, wykonując dla każdej kombinacji wielokrotnie train_test_split na X_train\n",
    "# Optymalna para to: n_neighbors = 3, n_estimators = 100\n",
    "a = []\n",
    "for i in range(10):\n",
    "    X_train_train,X_train_test,y_train_train,y_train_test = train_test_split(X_train_8,y_train, test_size = 0.3,random_state = i+20)\n",
    "    pipeline_b = Pipeline([\n",
    "        (\"scaler\", StandardScaler()),\n",
    "        ('bknn', BaggingClassifier(KNeighborsClassifier(n_neighbors=3),n_estimators=100))\n",
    "    ])\n",
    "    pipeline_b.fit(X_train_train,y_train_train)\n",
    "    preds_knn = pipeline_b.predict(X_train_test)\n",
    "    a.append(balanced_accuracy_score(preds_knn,y_train_test))\n",
    "a"
   ]
  },
  {
   "cell_type": "code",
   "execution_count": 59,
   "metadata": {},
   "outputs": [
    {
     "data": {
      "text/plain": [
       "array([[1.        , 0.        ],\n",
       "       [1.        , 0.        ],\n",
       "       [0.36      , 0.64      ],\n",
       "       ...,\n",
       "       [0.        , 1.        ],\n",
       "       [0.00333333, 0.99666667],\n",
       "       [1.        , 0.        ]])"
      ]
     },
     "execution_count": 59,
     "metadata": {},
     "output_type": "execute_result"
    }
   ],
   "source": [
    "\n",
    "pipeline_b = Pipeline([\n",
    "    (\"scaler\", StandardScaler()),\n",
    "    ('bknn', BaggingClassifier(KNeighborsClassifier(n_neighbors=3),n_estimators=100)) # 3, 100\n",
    "])\n",
    "space = dict()\n",
    "space['bknn__estimator__n_neighbors'] = [3,4,5,6]\n",
    "space['bknn__n_estimators'] = [50,100,150]\n",
    "#search = GridSearchCV(pipeline_b,space,scoring = \"balanced_accuracy\",cv = 5)\n",
    "pipeline_b.fit(X_train_8,y_train)\n",
    "preds_knn = pipeline_b.predict_proba(X_test_8)\n",
    "preds_knn\n"
   ]
  },
  {
   "cell_type": "code",
   "execution_count": 50,
   "metadata": {},
   "outputs": [],
   "source": [
    "preds_bruh_knn_8 = preds_knn.tolist()\n",
    "preds_bruh_knn_8_2 = [i[1] for i in preds_bruh_knn_8]\n",
    "#file = open('preds1.txt','w')\n",
    "#for item in preds_bruh:\n",
    "#\tfile.write(item+\"\\n\")\n",
    "#file.close()\n",
    "#preds_bruh\n",
    "#pd.DataFrame(preds, columns=search.classes_)\n",
    "#preds_bruh_1\n",
    "file = open('C:\\\\Users\\\\User\\\\Desktop\\\\preds_knn_1.txt','w')\n",
    "for item in preds_bruh_knn_8_2:\n",
    "\tfile.write(\"%s\\n\" % str(item))\n",
    "file.close()"
   ]
  }
 ],
 "metadata": {
  "kernelspec": {
   "display_name": "base",
   "language": "python",
   "name": "python3"
  },
  "language_info": {
   "codemirror_mode": {
    "name": "ipython",
    "version": 3
   },
   "file_extension": ".py",
   "mimetype": "text/x-python",
   "name": "python",
   "nbconvert_exporter": "python",
   "pygments_lexer": "ipython3",
   "version": "3.9.7"
  }
 },
 "nbformat": 4,
 "nbformat_minor": 2
}
